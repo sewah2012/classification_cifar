{
  "nbformat": 4,
  "nbformat_minor": 0,
  "metadata": {
    "colab": {
      "provenance": [],
      "include_colab_link": true
    },
    "kernelspec": {
      "name": "python3",
      "display_name": "Python 3"
    },
    "accelerator": "GPU"
  },
  "cells": [
    {
      "cell_type": "markdown",
      "metadata": {
        "id": "view-in-github",
        "colab_type": "text"
      },
      "source": [
        "<a href=\"https://colab.research.google.com/github/sewah2012/classification_cifar/blob/master/TD_Classification_CIFAR.ipynb\" target=\"_parent\"><img src=\"https://colab.research.google.com/assets/colab-badge.svg\" alt=\"Open In Colab\"/></a>"
      ]
    },
    {
      "cell_type": "code",
      "metadata": {
        "id": "jP2hf0OBVYm3"
      },
      "source": [
        "## TD ET Devoir pour 29 JUIN 2024\n",
        "## Nom: SEWAH,\n",
        "## Prenom: Emmanuel Sahr"
      ],
      "execution_count": null,
      "outputs": []
    },
    {
      "cell_type": "markdown",
      "metadata": {
        "id": "xCYbpAdAc3X7"
      },
      "source": [
        "# Classification d'une petite base de données d'images couleur (CIFAR-10)\n",
        "\n",
        "Le dataset CIFAR-10 (Canadian Institute For Advanced Research) est une collection d'images qui sont couramment utilisées pour tester les performances des algorithmes de l'apprentissage automatique et les algorithmes de vision par ordinateur. C'est l'un des datasets les plus utilisés pour la recherche sur l'apprentissage machine. L'ensemble de données CIFAR-10 contient 60 000 images 32x32 en couleur réparties en 10 classes différentes. Les 10 classes différentes représentent des avions, des voitures, des oiseaux, des chats, des cerfs, des chiens, des grenouilles, des chevaux, des bateaux et des camions. Il y a 6 000 images dans chaque classe. Les noms des classes sont ici https://www.cs.toronto.edu/~kriz/cifar.html\n",
        "\n",
        "Pour plus de détails: https://en.wikipedia.org/wiki/CIFAR-10"
      ]
    },
    {
      "cell_type": "markdown",
      "metadata": {
        "id": "zSh2GxMakLec"
      },
      "source": [
        "## Importation des bibliothèques"
      ]
    },
    {
      "cell_type": "code",
      "metadata": {
        "id": "_Qv2r7WFwj5n"
      },
      "source": [
        "import tensorflow"
      ],
      "execution_count": 1,
      "outputs": []
    },
    {
      "cell_type": "code",
      "metadata": {
        "id": "6kYlveFMwy0Q",
        "colab": {
          "base_uri": "https://localhost:8080/",
          "height": 35
        },
        "outputId": "a8ce452f-454c-487a-dbbf-6dfd4d2015e2"
      },
      "source": [
        "tensorflow.__version__"
      ],
      "execution_count": 2,
      "outputs": [
        {
          "output_type": "execute_result",
          "data": {
            "text/plain": [
              "'2.15.0'"
            ],
            "application/vnd.google.colaboratory.intrinsic+json": {
              "type": "string"
            }
          },
          "metadata": {},
          "execution_count": 2
        }
      ]
    },
    {
      "cell_type": "code",
      "metadata": {
        "id": "U5CzjFRvNJoQ"
      },
      "source": [
        "from tensorflow import keras\n",
        "from keras.datasets import cifar10\n",
        "from keras.models import Sequential\n",
        "from keras.layers import Dense, Dropout, Activation, Flatten\n",
        "from keras.layers import Conv2D, MaxPooling2D\n",
        "\n",
        "import numpy as np\n",
        "import matplotlib.pyplot as plt"
      ],
      "execution_count": 3,
      "outputs": []
    },
    {
      "cell_type": "markdown",
      "metadata": {
        "id": "0s_ObZU6kWsG"
      },
      "source": [
        "## Diviser les données en train/test"
      ]
    },
    {
      "cell_type": "code",
      "metadata": {
        "id": "FSAjzMqbegr6",
        "colab": {
          "base_uri": "https://localhost:8080/"
        },
        "outputId": "e21e3848-3dd9-4341-fefe-6bea63f9e160"
      },
      "source": [
        "# The data, split between train and test sets:\n",
        "(x_train, y_train), (x_test, y_test) = cifar10.load_data()"
      ],
      "execution_count": 4,
      "outputs": [
        {
          "output_type": "stream",
          "name": "stdout",
          "text": [
            "Downloading data from https://www.cs.toronto.edu/~kriz/cifar-10-python.tar.gz\n",
            "170498071/170498071 [==============================] - 13s 0us/step\n"
          ]
        }
      ]
    },
    {
      "cell_type": "markdown",
      "metadata": {
        "id": "odxAFIDs45mA"
      },
      "source": [
        "**Question 1:** Ecrivez un code qui montre le nombre des données d'apprentissage et données de test, et aussi la taille des images utilisées"
      ]
    },
    {
      "cell_type": "code",
      "metadata": {
        "id": "tL_g-jTC44_L",
        "colab": {
          "base_uri": "https://localhost:8080/"
        },
        "outputId": "b4ae35f7-e8c7-4740-9020-00174b11082a"
      },
      "source": [
        "print('x_train shape:', x_train.shape)\n",
        "print(x_train.shape[0], 'train samples')\n",
        "print(x_test.shape[0], 'test samples')\n",
        "print('image size:', x_train[0].shape)\n"
      ],
      "execution_count": 5,
      "outputs": [
        {
          "output_type": "stream",
          "name": "stdout",
          "text": [
            "x_train shape: (50000, 32, 32, 3)\n",
            "50000 train samples\n",
            "10000 test samples\n",
            "image size: (32, 32, 3)\n"
          ]
        }
      ]
    },
    {
      "cell_type": "markdown",
      "metadata": {
        "id": "pAyY9GID17jT"
      },
      "source": [
        "### Visualizer quelques exemples\n",
        "\n",
        "Les détails des classes sont ici https://www.cs.toronto.edu/~kriz/cifar.html"
      ]
    },
    {
      "cell_type": "markdown",
      "metadata": {
        "id": "ski1egci5Qbp"
      },
      "source": [
        "**Question 2:** Ecrivez un code qui choisit un nombre au hasard entre 0 et 50000 puis affiche l'image correspondante dans les images de training"
      ]
    },
    {
      "cell_type": "code",
      "source": [
        "# Choisir un nombre au hasard entre 0 et 50000\n",
        "random_index = np.random.randint(0, 50000)\n",
        "\n",
        "# Afficher l'image correspondante\n",
        "plt.imshow(x_train[random_index])\n",
        "plt.show()\n"
      ],
      "metadata": {
        "id": "OxECYv542Z-e",
        "colab": {
          "base_uri": "https://localhost:8080/",
          "height": 430
        },
        "outputId": "66525d6c-dd30-493e-efa0-9620da117b4e"
      },
      "execution_count": 6,
      "outputs": [
        {
          "output_type": "display_data",
          "data": {
            "text/plain": [
              "<Figure size 640x480 with 1 Axes>"
            ],
            "image/png": "[encoded data removed]"
          },
          "metadata": {}
        }
      ]
    },
    {
      "cell_type": "markdown",
      "metadata": {
        "id": "t8y_cRUj5y1H"
      },
      "source": [
        "**Question 3:** Ecrivez un code qui affiche la classe de l'image sélectionnée précedemment"
      ]
    },
    {
      "cell_type": "code",
      "source": [
        "# Afficher la classe de l'image sélectionnée\n",
        "print('Class:', y_train[random_index][0])\n"
      ],
      "metadata": {
        "id": "jiHCRjpq2bS9",
        "colab": {
          "base_uri": "https://localhost:8080/"
        },
        "outputId": "1f4db44d-e0eb-4b76-cbd3-d34ad9aad91f"
      },
      "execution_count": 7,
      "outputs": [
        {
          "output_type": "stream",
          "name": "stdout",
          "text": [
            "Class: 7\n"
          ]
        }
      ]
    },
    {
      "cell_type": "code",
      "source": [],
      "metadata": {
        "id": "Wm3nla7pHI4h"
      },
      "execution_count": null,
      "outputs": []
    },
    {
      "cell_type": "markdown",
      "metadata": {
        "id": "pLyWPZT3kWOe"
      },
      "source": [
        "## Conversion en one-hot encoding"
      ]
    },
    {
      "cell_type": "markdown",
      "metadata": {
        "id": "52bhPEu554l4"
      },
      "source": [
        "**Question 4:** Faites la conversion des labels y en one-hot encoding"
      ]
    },
    {
      "cell_type": "code",
      "metadata": {
        "id": "AoS_b-f6evL8"
      },
      "source": [
        "num_classes = 10\n",
        "y_train = keras.utils.to_categorical(y_train, num_classes)\n",
        "y_test = keras.utils.to_categorical(y_test, num_classes)\n"
      ],
      "execution_count": 8,
      "outputs": []
    },
    {
      "cell_type": "markdown",
      "metadata": {
        "id": "lG-Bs4iBe0iO"
      },
      "source": [
        "## Construisons notre ConvNet"
      ]
    },
    {
      "cell_type": "markdown",
      "metadata": {
        "id": "aAzx1TO-6LYr"
      },
      "source": [
        "**Question 5:** En regardant le model.summary() ci dessous, reconstruisez le code de réseaux de neurones\n",
        "\n",
        "```\n",
        "Model: \"sequential\"\n",
        "_________________________________________________________________\n",
        " Layer (type)                Output Shape              Param #   \n",
        "=================================================================\n",
        " conv2d (Conv2D)             (None, 30, 30, 32)        896       \n",
        "                                                                 \n",
        " conv2d_1 (Conv2D)           (None, 28, 28, 32)        9248      \n",
        "                                                                 \n",
        " max_pooling2d (MaxPooling2D  (None, 14, 14, 32)       0         \n",
        " )                                                               \n",
        "                                                                 \n",
        " dropout (Dropout)           (None, 14, 14, 32)        0         \n",
        "                                                                 \n",
        " conv2d_2 (Conv2D)           (None, 12, 12, 64)        18496     \n",
        "                                                                 \n",
        " conv2d_3 (Conv2D)           (None, 10, 10, 64)        36928     \n",
        "                                                                 \n",
        " max_pooling2d_1 (MaxPooling  (None, 5, 5, 64)         0         \n",
        " 2D)                                                             \n",
        "                                                                 \n",
        " dropout_1 (Dropout)         (None, 5, 5, 64)          0         \n",
        "                                                                 \n",
        " flatten (Flatten)           (None, 1600)              0         \n",
        "                                                                 \n",
        " dense (Dense)               (None, 512)               819712    \n",
        "                                                                 \n",
        " dropout_2 (Dropout)         (None, 512)               0         \n",
        "                                                                 \n",
        " dense_1 (Dense)             (None, 10)                5130      \n",
        "                                                                 \n",
        "=================================================================\n",
        "Total params: 890,410\n",
        "Trainable params: 890,410\n",
        "Non-trainable params: 0\n",
        "_________________________________________________________________\n",
        "```\n",
        "\n",
        "(pour les activations utilisez des ReLU et pour le dropout utilisez 30%, la taille des filtres c'est 3x3)"
      ]
    },
    {
      "cell_type": "code",
      "metadata": {
        "id": "Mbqq414xdMLk"
      },
      "source": [
        "#### ici écrivez le code du convnet\n",
        "# Initialiser le modèle\n",
        "model = Sequential()\n",
        "\n",
        "# Ajouter la première couche de convolution\n",
        "model.add(Conv2D(32, (3, 3), activation='relu', input_shape=(32, 32, 3)))\n",
        "# Ajouter la deuxième couche de convolution\n",
        "model.add(Conv2D(32, (3, 3), activation='relu'))\n",
        "# Ajouter la première couche de pooling\n",
        "model.add(MaxPooling2D(pool_size=(2, 2)))\n",
        "# Ajouter la première couche de dropout\n",
        "model.add(Dropout(0.25))\n",
        "\n",
        "# Ajouter la troisième couche de convolution\n",
        "model.add(Conv2D(64, (3, 3), activation='relu'))\n",
        "# Ajouter la quatrième couche de convolution\n",
        "model.add(Conv2D(64, (3, 3), activation='relu'))\n",
        "# Ajouter la deuxième couche de pooling\n",
        "model.add(MaxPooling2D(pool_size=(2, 2)))\n",
        "# Ajouter la deuxième couche de dropout\n",
        "model.add(Dropout(0.25))\n",
        "\n",
        "# Aplatir les couches\n",
        "model.add(Flatten())\n",
        "\n",
        "# Ajouter la première couche complètement connectée (dense)\n",
        "model.add(Dense(512, activation='relu'))\n",
        "# Ajouter la troisième couche de dropout\n",
        "model.add(Dropout(0.5))\n",
        "\n",
        "# Ajouter la couche de sortie\n",
        "model.add(Dense(10, activation='softmax'))\n"
      ],
      "execution_count": 9,
      "outputs": []
    },
    {
      "cell_type": "code",
      "metadata": {
        "id": "LR2QGAzLe_ca",
        "colab": {
          "base_uri": "https://localhost:8080/"
        },
        "outputId": "e91fe585-30da-48ed-edbf-5c59acacf059"
      },
      "source": [
        "### vérifiez si votre model.summary() est similaire à l'énoncé de la question\n",
        "model.summary()"
      ],
      "execution_count": 10,
      "outputs": [
        {
          "output_type": "stream",
          "name": "stdout",
          "text": [
            "Model: \"sequential\"\n",
            "_________________________________________________________________\n",
            " Layer (type)                Output Shape              Param #   \n",
            "=================================================================\n",
            " conv2d (Conv2D)             (None, 30, 30, 32)        896       \n",
            "                                                                 \n",
            " conv2d_1 (Conv2D)           (None, 28, 28, 32)        9248      \n",
            "                                                                 \n",
            " max_pooling2d (MaxPooling2  (None, 14, 14, 32)        0         \n",
            " D)                                                              \n",
            "                                                                 \n",
            " dropout (Dropout)           (None, 14, 14, 32)        0         \n",
            "                                                                 \n",
            " conv2d_2 (Conv2D)           (None, 12, 12, 64)        18496     \n",
            "                                                                 \n",
            " conv2d_3 (Conv2D)           (None, 10, 10, 64)        36928     \n",
            "                                                                 \n",
            " max_pooling2d_1 (MaxPoolin  (None, 5, 5, 64)          0         \n",
            " g2D)                                                            \n",
            "                                                                 \n",
            " dropout_1 (Dropout)         (None, 5, 5, 64)          0         \n",
            "                                                                 \n",
            " flatten (Flatten)           (None, 1600)              0         \n",
            "                                                                 \n",
            " dense (Dense)               (None, 512)               819712    \n",
            "                                                                 \n",
            " dropout_2 (Dropout)         (None, 512)               0         \n",
            "                                                                 \n",
            " dense_1 (Dense)             (None, 10)                5130      \n",
            "                                                                 \n",
            "=================================================================\n",
            "Total params: 890410 (3.40 MB)\n",
            "Trainable params: 890410 (3.40 MB)\n",
            "Non-trainable params: 0 (0.00 Byte)\n",
            "_________________________________________________________________\n"
          ]
        }
      ]
    },
    {
      "cell_type": "markdown",
      "metadata": {
        "id": "XBYAryGpkcFe"
      },
      "source": [
        "### Normalisation des données d'entrée"
      ]
    },
    {
      "cell_type": "markdown",
      "metadata": {
        "id": "TOnqE72B6w2i"
      },
      "source": [
        "**Question 6:** Normalisez les données d'entrées de train et de test"
      ]
    },
    {
      "cell_type": "code",
      "metadata": {
        "id": "EeGXfJezflHM"
      },
      "source": [
        "# Normaliser les données d'entrée\n",
        "x_train = x_train.astype('float32')\n",
        "x_test = x_test.astype('float32')\n",
        "x_train /= 255\n",
        "x_test /= 255\n"
      ],
      "execution_count": 11,
      "outputs": []
    },
    {
      "cell_type": "markdown",
      "metadata": {
        "id": "1cZgyUPAkfpR"
      },
      "source": [
        "### Choix de l'optimiseur et compilation du modèle"
      ]
    },
    {
      "cell_type": "markdown",
      "metadata": {
        "id": "_7kZ4_z06-5o"
      },
      "source": [
        "**Question 7:** Définisser l'optimiseur ADAM avec un learning rate de $10^{-3}$"
      ]
    },
    {
      "cell_type": "code",
      "metadata": {
        "id": "U-mt9cBdfttY"
      },
      "source": [
        "# Définir l'optimiseur\n",
        "optimizer = keras.optimizers.Adam(learning_rate=0.001)\n"
      ],
      "execution_count": 12,
      "outputs": []
    },
    {
      "cell_type": "markdown",
      "metadata": {
        "id": "ltybmhNq7ZSK"
      },
      "source": [
        "**Question 8:** Compiler le modèle avec la bonne fonction de coût et afficher aussi la métrique \"accuracy\""
      ]
    },
    {
      "cell_type": "code",
      "metadata": {
        "id": "mtmMnI8V7Zbb"
      },
      "source": [
        "# Compiler le modèle\n",
        "model.compile(loss='categorical_crossentropy',\n",
        "              optimizer=optimizer,\n",
        "              metrics=['accuracy'])\n"
      ],
      "execution_count": 14,
      "outputs": []
    },
    {
      "cell_type": "markdown",
      "metadata": {
        "id": "iiZXQaLB3nD1"
      },
      "source": [
        "\"nvidia-smi\" sert à checker la carte GPU utilisée, vérifier que vous avez activer la GPU dans ce colab: onglet \"Execution -> modifier le type de l'Execution\""
      ]
    },
    {
      "cell_type": "code",
      "metadata": {
        "id": "rBaOKKxpkHDo",
        "colab": {
          "base_uri": "https://localhost:8080/"
        },
        "outputId": "1f3765dc-a1dc-4d5f-c7c2-2624db62cb7c"
      },
      "source": [
        "!nvidia-smi"
      ],
      "execution_count": 15,
      "outputs": [
        {
          "output_type": "stream",
          "name": "stdout",
          "text": [
            "Sun Jun 30 18:11:20 2024       \n",
            "+---------------------------------------------------------------------------------------+\n",
            "| NVIDIA-SMI 535.104.05             Driver Version: 535.104.05   CUDA Version: 12.2     |\n",
            "|-----------------------------------------+----------------------+----------------------+\n",
            "| GPU  Name                 Persistence-M | Bus-Id        Disp.A | Volatile Uncorr. ECC |\n",
            "| Fan  Temp   Perf          Pwr:Usage/Cap |         Memory-Usage | GPU-Util  Compute M. |\n",
            "|                                         |                      |               MIG M. |\n",
            "|=========================================+======================+======================|\n",
            "|   0  Tesla T4                       Off | 00000000:00:04.0 Off |                    0 |\n",
            "| N/A   53C    P0              29W /  70W |    119MiB / 15360MiB |      0%      Default |\n",
            "|                                         |                      |                  N/A |\n",
            "+-----------------------------------------+----------------------+----------------------+\n",
            "                                                                                         \n",
            "+---------------------------------------------------------------------------------------+\n",
            "| Processes:                                                                            |\n",
            "|  GPU   GI   CI        PID   Type   Process name                            GPU Memory |\n",
            "|        ID   ID                                                             Usage      |\n",
            "|=======================================================================================|\n",
            "+---------------------------------------------------------------------------------------+\n"
          ]
        }
      ]
    },
    {
      "cell_type": "markdown",
      "metadata": {
        "id": "JfpmScNwkl1b"
      },
      "source": [
        "### **Entraînement**"
      ]
    },
    {
      "cell_type": "markdown",
      "metadata": {
        "id": "Qq8jjzotddY4"
      },
      "source": [
        "**Question 9:** Entraînez votre modèle, prenez un batch size de 32 et un nombre d'epochs de 20"
      ]
    },
    {
      "cell_type": "code",
      "metadata": {
        "id": "Iz3WKkm2NJw9",
        "colab": {
          "base_uri": "https://localhost:8080/"
        },
        "outputId": "f38c6ac1-b8f3-42fb-93d8-12c3d9eb1307"
      },
      "source": [
        "# Entraîner le modèle\n",
        "batch_size = 32\n",
        "epochs = 20\n",
        "model.fit(x_train, y_train,\n",
        "          batch_size=batch_size,\n",
        "          epochs=epochs,\n",
        "          validation_data=(x_test, y_test),\n",
        "          shuffle=True)\n"
      ],
      "execution_count": 17,
      "outputs": [
        {
          "output_type": "stream",
          "name": "stdout",
          "text": [
            "Epoch 1/20\n",
            "1563/1563 [==============================] - 16s 7ms/step - loss: 1.5415 - accuracy: 0.4346 - val_loss: 1.1544 - val_accuracy: 0.5838\n",
            "Epoch 2/20\n",
            "1563/1563 [==============================] - 9s 6ms/step - loss: 1.1415 - accuracy: 0.5953 - val_loss: 0.9588 - val_accuracy: 0.6689\n",
            "Epoch 3/20\n",
            "1563/1563 [==============================] - 10s 6ms/step - loss: 0.9847 - accuracy: 0.6524 - val_loss: 0.8845 - val_accuracy: 0.6915\n",
            "Epoch 4/20\n",
            "1563/1563 [==============================] - 9s 6ms/step - loss: 0.8992 - accuracy: 0.6839 - val_loss: 0.8064 - val_accuracy: 0.7217\n",
            "Epoch 5/20\n",
            "1563/1563 [==============================] - 10s 6ms/step - loss: 0.8346 - accuracy: 0.7040 - val_loss: 0.7973 - val_accuracy: 0.7292\n",
            "Epoch 6/20\n",
            "1563/1563 [==============================] - 10s 6ms/step - loss: 0.7928 - accuracy: 0.7200 - val_loss: 0.7625 - val_accuracy: 0.7363\n",
            "Epoch 7/20\n",
            "1563/1563 [==============================] - 9s 6ms/step - loss: 0.7617 - accuracy: 0.7318 - val_loss: 0.7718 - val_accuracy: 0.7339\n",
            "Epoch 8/20\n",
            "1563/1563 [==============================] - 10s 6ms/step - loss: 0.7338 - accuracy: 0.7426 - val_loss: 0.7180 - val_accuracy: 0.7508\n",
            "Epoch 9/20\n",
            "1563/1563 [==============================] - 9s 6ms/step - loss: 0.7069 - accuracy: 0.7501 - val_loss: 0.7121 - val_accuracy: 0.7588\n",
            "Epoch 10/20\n",
            "1563/1563 [==============================] - 10s 6ms/step - loss: 0.6885 - accuracy: 0.7564 - val_loss: 0.6905 - val_accuracy: 0.7631\n",
            "Epoch 11/20\n",
            "1563/1563 [==============================] - 10s 6ms/step - loss: 0.6674 - accuracy: 0.7673 - val_loss: 0.6775 - val_accuracy: 0.7695\n",
            "Epoch 12/20\n",
            "1563/1563 [==============================] - 10s 6ms/step - loss: 0.6559 - accuracy: 0.7689 - val_loss: 0.6839 - val_accuracy: 0.7732\n",
            "Epoch 13/20\n",
            "1563/1563 [==============================] - 10s 7ms/step - loss: 0.6381 - accuracy: 0.7754 - val_loss: 0.6797 - val_accuracy: 0.7701\n",
            "Epoch 14/20\n",
            "1563/1563 [==============================] - 9s 6ms/step - loss: 0.6213 - accuracy: 0.7788 - val_loss: 0.6775 - val_accuracy: 0.7689\n",
            "Epoch 15/20\n",
            "1563/1563 [==============================] - 9s 6ms/step - loss: 0.6152 - accuracy: 0.7816 - val_loss: 0.6641 - val_accuracy: 0.7764\n",
            "Epoch 16/20\n",
            "1563/1563 [==============================] - 9s 6ms/step - loss: 0.5989 - accuracy: 0.7870 - val_loss: 0.6971 - val_accuracy: 0.7699\n",
            "Epoch 17/20\n",
            "1563/1563 [==============================] - 8s 5ms/step - loss: 0.5851 - accuracy: 0.7941 - val_loss: 0.6762 - val_accuracy: 0.7788\n",
            "Epoch 18/20\n",
            "1563/1563 [==============================] - 9s 6ms/step - loss: 0.5752 - accuracy: 0.7976 - val_loss: 0.6935 - val_accuracy: 0.7717\n",
            "Epoch 19/20\n",
            "1563/1563 [==============================] - 10s 6ms/step - loss: 0.5696 - accuracy: 0.7994 - val_loss: 0.6820 - val_accuracy: 0.7771\n",
            "Epoch 20/20\n",
            "1563/1563 [==============================] - 9s 6ms/step - loss: 0.5644 - accuracy: 0.8026 - val_loss: 0.6737 - val_accuracy: 0.7781\n"
          ]
        },
        {
          "output_type": "execute_result",
          "data": {
            "text/plain": [
              "<keras.src.callbacks.History at 0x7fa964c81ae0>"
            ]
          },
          "metadata": {},
          "execution_count": 17
        }
      ]
    },
    {
      "cell_type": "markdown",
      "metadata": {
        "id": "pHE6n_XtdzIE"
      },
      "source": [
        "**Question 10:** Affichez les courbes de train loss et val loss"
      ]
    },
    {
      "cell_type": "code",
      "metadata": {
        "id": "7KHQeDiAk6Uy",
        "colab": {
          "base_uri": "https://localhost:8080/",
          "height": 430
        },
        "outputId": "778e0da6-5ff6-4549-d983-099e7581ef67"
      },
      "source": [
        "# Afficher les courbes de train loss et val loss\n",
        "plt.plot(model.history.history['loss'], label='train loss')\n",
        "plt.plot(model.history.history['val_loss'], label='val loss')\n",
        "plt.legend()\n",
        "plt.show()\n"
      ],
      "execution_count": 18,
      "outputs": [
        {
          "output_type": "display_data",
          "data": {
            "text/plain": [
              "<Figure size 640x480 with 1 Axes>"
            ],
            "image/png": "[encoded data removed]"
          },
          "metadata": {}
        }
      ]
    },
    {
      "cell_type": "markdown",
      "metadata": {
        "id": "U15CSVSokpGL"
      },
      "source": [
        "### Score sur le test dataset"
      ]
    },
    {
      "cell_type": "markdown",
      "metadata": {
        "id": "GSLISSqs7xvu"
      },
      "source": [
        "**Question 11:** Afficher le score sur les données de test"
      ]
    },
    {
      "cell_type": "code",
      "metadata": {
        "id": "PaNLNPk4NJzv",
        "colab": {
          "base_uri": "https://localhost:8080/"
        },
        "outputId": "ce04ed0c-17e6-4fb3-8c13-3f084034a73c"
      },
      "source": [
        "# Évaluer le modèle sur les données de test\n",
        "score = model.evaluate(x_test, y_test, verbose=0)\n",
        "print('Test loss:', score[0])\n",
        "print('Test accuracy:', score[1])\n"
      ],
      "execution_count": 19,
      "outputs": [
        {
          "output_type": "stream",
          "name": "stdout",
          "text": [
            "Test loss: 0.6736928224563599\n",
            "Test accuracy: 0.7781000137329102\n"
          ]
        }
      ]
    },
    {
      "cell_type": "markdown",
      "metadata": {
        "id": "LzgZhcC6gqF4"
      },
      "source": [
        "**Question 12**: testez sur un exemple et donnez le numéro de la classe, vérifiez dans le site CIFAR donnée dans l'introduction quelle est le nom de la classe"
      ]
    },
    {
      "cell_type": "code",
      "metadata": {
        "id": "K91N1jWJK5Zq",
        "colab": {
          "base_uri": "https://localhost:8080/",
          "height": 448
        },
        "outputId": "ca995b9c-7767-49e7-89da-5feaa25b1670"
      },
      "source": [
        "plt.imshow(x_test[100,:,:,:])"
      ],
      "execution_count": 20,
      "outputs": [
        {
          "output_type": "execute_result",
          "data": {
            "text/plain": [
              "<matplotlib.image.AxesImage at 0x7fa96fe55f60>"
            ]
          },
          "metadata": {},
          "execution_count": 20
        },
        {
          "output_type": "display_data",
          "data": {
            "text/plain": [
              "<Figure size 640x480 with 1 Axes>"
            ],
            "image/png": "[encoded data removed]"
          },
          "metadata": {}
        }
      ]
    },
    {
      "cell_type": "code",
      "metadata": {
        "id": "IvSUgZhyYRrN",
        "colab": {
          "base_uri": "https://localhost:8080/"
        },
        "outputId": "747399c7-9552-4a8d-8abd-1c77cbc7e088"
      },
      "source": [
        "# ce code vous donne le numéro de la classe\n",
        "np.argmax(model.predict(x_test[100,None,:,:,:]))"
      ],
      "execution_count": 21,
      "outputs": [
        {
          "output_type": "stream",
          "name": "stdout",
          "text": [
            "1/1 [==============================] - 0s 356ms/step\n"
          ]
        },
        {
          "output_type": "execute_result",
          "data": {
            "text/plain": [
              "4"
            ]
          },
          "metadata": {},
          "execution_count": 21
        }
      ]
    }
  ]
}